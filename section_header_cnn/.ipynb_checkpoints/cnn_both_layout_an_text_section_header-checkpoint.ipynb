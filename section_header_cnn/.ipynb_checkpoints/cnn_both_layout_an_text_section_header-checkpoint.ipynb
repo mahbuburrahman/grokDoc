{
 "cells": [
  {
   "cell_type": "markdown",
   "metadata": {},
   "source": [
    "We build CNN models using keras for only layout input for section header classification. This is top level section\n",
    "header classification. The classes are a section header or regular text. "
   ]
  },
  {
   "cell_type": "code",
   "execution_count": null,
   "metadata": {},
   "outputs": [],
   "source": [
    "import tensorflow as tf\n",
    "from tensorflow.contrib import keras\n",
    "from tensorflow.contrib.keras import models\n",
    "from tensorflow.contrib.keras import datasets\n",
    "from tensorflow.contrib.keras import layers\n",
    "from tensorflow.contrib.keras import preprocessing\n",
    "from tensorflow.contrib.keras import backend as K\n",
    "from tensorflow.contrib.keras import callbacks\n",
    "from tensorflow.contrib.keras import utils\n",
    "\n",
    "from collections import defaultdict\n",
    "import pandas as pd\n",
    "import numpy as np\n",
    "import os\n",
    "import json\n",
    "import pickle\n",
    "import sys\n",
    "import random\n",
    "import glob\n",
    "from sklearn import metrics,cross_validation\n",
    "import csv\n",
    "from collections import Counter\n",
    "import warnings\n",
    "import string\n",
    "import re\n",
    "import nltk\n",
    "warnings.filterwarnings('ignore')\n",
    "warnings.simplefilter('ignore')\n",
    "\n",
    "learn = tf.contrib.learn\n",
    "csv.field_size_limit(sys.maxsize)\n",
    "tf.logging.set_verbosity(tf.logging.WARN)"
   ]
  },
  {
   "cell_type": "code",
   "execution_count": null,
   "metadata": {
    "collapsed": true
   },
   "outputs": [],
   "source": [
    "config = tf.ConfigProto()\n",
    "config.gpu_options.per_process_gpu_memory_fraction = 0.95\n",
    "#config.gpu_options.allow_growth=True\n",
    "config.gpu_options.visible_device_list=\"0\"\n",
    "session = tf.Session(config=config)\n",
    "keras.backend.set_session(session)\n",
    "K.gpu_setup = [\"gpu0\"]"
   ]
  },
  {
   "cell_type": "code",
   "execution_count": null,
   "metadata": {
    "collapsed": true
   },
   "outputs": [],
   "source": [
    "MAX_DOCUMENT_LENGTH=100\n",
    "maxlen_word=20\n",
    "num_classes=2\n",
    "embedding_dims=100\n",
    "filters=250\n",
    "kernel_size = 3\n",
    "hidden_dims = 100\n",
    "batch_size=128"
   ]
  },
  {
   "cell_type": "code",
   "execution_count": null,
   "metadata": {
    "collapsed": true
   },
   "outputs": [],
   "source": [
    "n_files=60\n",
    "n_epoch=100\n",
    "f= open(\"report_sections_cnn_both_layout_and_text_09_06_17_files_\"+str(n_files)+\"_epoch_\"+str(n_epoch)+\".txt\",\"w\")\n",
    "f.write(\"Number of files: \")\n",
    "f.write(str(n_files))\n",
    "f.write(\"\\nNumber of epoch: \")\n",
    "f.write(str(n_epoch))\n",
    "f.write(\"\\n\")\n",
    "load_from_vector=False\n",
    "model_dir=\"cnn_both_layout_and_text_section_header/\"\n",
    "\n",
    "if not os.path.exists(model_dir):\n",
    "    os.makedirs(model_dir)"
   ]
  },
  {
   "cell_type": "markdown",
   "metadata": {},
   "source": [
    "Load previously data"
   ]
  },
  {
   "cell_type": "code",
   "execution_count": null,
   "metadata": {
    "collapsed": true
   },
   "outputs": [],
   "source": [
    "# #load save character, word vector and layout vector and terget vector for test and training\n",
    "\n",
    "x_train_char = pickle.load(open(\"cnn_only_text_section_header/x_train_char\",'rb'))\n",
    "x_train_layout = pickle.load(open(\"cnn_only_text_section_header/x_train_layout\",'rb'))\n",
    "y_train= pickle.load(open(\"cnn_only_text_section_header/y_train\",'rb'))\n",
    "\n",
    "x_test_char = pickle.load(open(\"cnn_only_text_section_header/x_test_char\",'rb'))\n",
    "x_test_layout = pickle.load(open(\"cnn_only_text_section_header/x_test_layout\",'rb'))\n",
    "y_test= pickle.load(open(\"cnn_only_text_section_header/y_test\",'rb'))\n",
    "\n",
    "\n"
   ]
  },
  {
   "cell_type": "markdown",
   "metadata": {},
   "source": [
    "Build model for only text input "
   ]
  },
  {
   "cell_type": "code",
   "execution_count": null,
   "metadata": {
    "collapsed": true
   },
   "outputs": [],
   "source": [
    "max_char=256\n",
    "input_char =  layers.Input(shape=(MAX_DOCUMENT_LENGTH,), name = 'input_char')\n",
    "\n",
    "embedding_char= layers.Embedding(max_char,embedding_dims,\n",
    "                    input_length=MAX_DOCUMENT_LENGTH)(input_char)\n",
    "dropout1_char = layers.Dropout(0.2)(embedding_char)\n",
    "\n",
    "conv1D_char = layers.Conv1D(filters,\n",
    "                 kernel_size,\n",
    "                 padding='valid',\n",
    "                 activation='relu',\n",
    "                 strides=1)(dropout1_char)\n",
    "\n",
    "globalMaxPooling1_char= layers.GlobalMaxPooling1D()(conv1D_char)\n",
    "\n",
    "dense_hidden_char = layers.Dense(hidden_dims)(globalMaxPooling1_char)\n",
    "dropout2_char = layers.Dropout(0.2)(dense_hidden_char)\n",
    "activation_char= layers.Activation('relu')(dropout2_char)\n"
   ]
  },
  {
   "cell_type": "code",
   "execution_count": null,
   "metadata": {},
   "outputs": [],
   "source": [
    "print('Build model for layout...')\n",
    "max_layout=x_train_layout.shape[1]\n",
    "\n",
    "input_layout =  layers.Input(shape=(max_layout,), name = 'input_layout')\n",
    "#dense_aspects= layers.Dense(max_aspects,activation='relu')(input_aspects)\n",
    "\n",
    "embedding_layout = layers.Embedding(output_dim=embedding_dims, input_dim=max_layout, \n",
    "                                     input_length=max_layout)(input_layout)\n",
    "\n",
    "conv1D_layout= layers.Conv1D(filters,kernel_size,padding='valid',activation='relu',\n",
    "                              strides=1)(embedding_layout)\n",
    "globalMaxPooling1_layout = layers.GlobalMaxPooling1D(name = 'maxpooling_layout')(conv1D_layout)\n",
    "\n",
    "dense_hidden_layout = layers.Dense(hidden_dims)(globalMaxPooling1_layout)\n",
    "\n",
    "#flatten_aspects = layers.Flatten()(embedding_aspects)\n",
    "#dense_flatten = layers.Dense(50)(flatten_aspects)\n",
    "#dense_hidden_aspects = layers.Dense(hidden_dims)(dense_flatten)\n",
    "\n",
    "dropout_layout= layers.Dropout(0.2)(dense_hidden_layout)\n",
    "activation_layout = layers.Activation(\"relu\")(dropout_layout)\n",
    "\n",
    "#class_aspects = layers.Dense(len(label_cat_id_to_int),activation=\"softmax\")(dropout_aspects)\n",
    "#model_aspects = models.Model(inputs=input_aspects,outputs=activation_aspects)\n"
   ]
  },
  {
   "cell_type": "code",
   "execution_count": null,
   "metadata": {
    "collapsed": true
   },
   "outputs": [],
   "source": [
    "# merging layout layer and text layer\n",
    "merged= layers.concatenate([activation_char, activation_layout])\n",
    "\n",
    "merged_dense_hidden = layers.Dense(hidden_dims+hidden_dims)(merged)\n",
    "merged_dropout= layers.Dropout(0.2)(merged_dense_hidden)\n",
    "merged_activation = layers.Activation(\"relu\")(merged_dropout)\n"
   ]
  },
  {
   "cell_type": "code",
   "execution_count": null,
   "metadata": {
    "collapsed": true
   },
   "outputs": [],
   "source": [
    "main_output = layers.Dense(num_classes, activation='softmax', name='main_output')(merged_activation)"
   ]
  },
  {
   "cell_type": "code",
   "execution_count": null,
   "metadata": {
    "collapsed": true
   },
   "outputs": [],
   "source": [
    "model = models.Model(inputs=[input_char, input_layout], outputs=[main_output])\n"
   ]
  },
  {
   "cell_type": "code",
   "execution_count": null,
   "metadata": {},
   "outputs": [],
   "source": [
    "model.compile(loss='categorical_crossentropy',\n",
    "              optimizer='adam',\n",
    "              metrics=['accuracy'])\n",
    "\n",
    "print model.summary()"
   ]
  },
  {
   "cell_type": "code",
   "execution_count": null,
   "metadata": {
    "collapsed": true
   },
   "outputs": [],
   "source": [
    "tb_callback = callbacks.TensorBoard(log_dir=model_dir, histogram_freq=50, write_graph=True,\n",
    "                          embeddings_freq=50,embeddings_layer_names=None)"
   ]
  },
  {
   "cell_type": "code",
   "execution_count": null,
   "metadata": {
    "collapsed": true
   },
   "outputs": [],
   "source": [
    "filepath=model_dir+\"weights-improvement-{epoch:02d}-{val_acc:.9f}.hdf5\"\n",
    "checkpoint = callbacks.ModelCheckpoint(filepath, monitor='val_acc', verbose=1, save_best_only=True, mode='max')\n",
    "history = callbacks.History()"
   ]
  },
  {
   "cell_type": "code",
   "execution_count": null,
   "metadata": {
    "scrolled": false
   },
   "outputs": [],
   "source": [
    "model.fit({\"input_char\":x_train_char,\"input_layout\":x_train_layout}, y_train,\n",
    "          batch_size=batch_size,shuffle=True,\n",
    "          epochs=n_epoch,verbose=1,\n",
    "          validation_data=({\"input_char\":x_test_char,\"input_layout\":x_test_layout}, y_test\n",
    "                          ),callbacks=[tb_callback,checkpoint,history])\n"
   ]
  },
  {
   "cell_type": "code",
   "execution_count": null,
   "metadata": {
    "collapsed": true
   },
   "outputs": [],
   "source": [
    "model.save(model_dir+\"final_model\")"
   ]
  },
  {
   "cell_type": "markdown",
   "metadata": {},
   "source": [
    "calculate scores for the final model. "
   ]
  },
  {
   "cell_type": "code",
   "execution_count": null,
   "metadata": {
    "collapsed": true
   },
   "outputs": [],
   "source": [
    "score = np.asarray(model.predict({\"input_char\":x_test_char,\"input_layout\":x_test_layout})).argmax(1)\n",
    "predict = np.round(np.asarray(model.predict({\"input_char\":x_test_char,\"input_layout\":x_test_layout}))).argmax(1)\n",
    "targ = y_test.argmax(1)\n",
    "        \n",
    "auc = metrics.roc_auc_score(targ, score)\n",
    "confusion= metrics.confusion_matrix(targ, predict)\n",
    "precision= metrics.precision_score(targ, predict)\n",
    "recall=metrics.recall_score(targ, predict)\n",
    "f1s=metrics.f1_score(targ, predict)\n",
    "kappa=metrics.cohen_kappa_score(targ, predict)"
   ]
  },
  {
   "cell_type": "code",
   "execution_count": null,
   "metadata": {
    "collapsed": true
   },
   "outputs": [],
   "source": [
    "print \"Accuracy: \",auc\n",
    "print \"Precision: \",precision\n",
    "print \"Recall: \",recall\n",
    "print \"F1-Score: \",f1s\n",
    "print \"Kappa: \",kappa\n",
    "print \"Confusion Matrix: \\n\", confusion\n",
    "\n",
    "f.write(\"\\nAccuracy: \"+str(auc))\n",
    "f.write(\"\\nPrecision: \"+str(precision))\n",
    "f.write(\"\\nRecall: \"+str(recall))\n",
    "f.write(\"\\nF1-Score: \"+str(f1s))\n",
    "f.write(\"\\nKappa: \"+str(kappa))\n",
    "f.write(\"\\nConfusion Matrix: \\n\"+str(confusion))\n"
   ]
  },
  {
   "cell_type": "code",
   "execution_count": null,
   "metadata": {
    "collapsed": true
   },
   "outputs": [],
   "source": [
    "print \"Done\"\n",
    "f.write(\"\\nDone: See report file for more details result\")\n",
    "f.close()"
   ]
  },
  {
   "cell_type": "code",
   "execution_count": null,
   "metadata": {
    "collapsed": true
   },
   "outputs": [],
   "source": []
  },
  {
   "cell_type": "code",
   "execution_count": null,
   "metadata": {
    "collapsed": true
   },
   "outputs": [],
   "source": []
  },
  {
   "cell_type": "code",
   "execution_count": null,
   "metadata": {
    "collapsed": true
   },
   "outputs": [],
   "source": []
  },
  {
   "cell_type": "code",
   "execution_count": null,
   "metadata": {
    "collapsed": true
   },
   "outputs": [],
   "source": []
  },
  {
   "cell_type": "code",
   "execution_count": null,
   "metadata": {
    "collapsed": true
   },
   "outputs": [],
   "source": []
  },
  {
   "cell_type": "code",
   "execution_count": null,
   "metadata": {
    "collapsed": true
   },
   "outputs": [],
   "source": []
  },
  {
   "cell_type": "code",
   "execution_count": null,
   "metadata": {
    "collapsed": true
   },
   "outputs": [],
   "source": []
  }
 ],
 "metadata": {
  "kernelspec": {
   "display_name": "Python 2",
   "language": "python",
   "name": "python2"
  },
  "language_info": {
   "codemirror_mode": {
    "name": "ipython",
    "version": 2
   },
   "file_extension": ".py",
   "mimetype": "text/x-python",
   "name": "python",
   "nbconvert_exporter": "python",
   "pygments_lexer": "ipython2",
   "version": "2.7.13"
  }
 },
 "nbformat": 4,
 "nbformat_minor": 2
}
