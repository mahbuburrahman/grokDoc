{
 "cells": [
  {
   "cell_type": "markdown",
   "metadata": {},
   "source": [
    "prepare a dataset fo machine learning class for doctor marron. This is just simple section\n",
    "header classifier based on character level input"
   ]
  },
  {
   "cell_type": "code",
   "execution_count": null,
   "metadata": {
    "collapsed": true
   },
   "outputs": [],
   "source": [
    "import pickle\n",
    "import csv\n",
    "import numpy as np\n",
    "import pandas as pd "
   ]
  },
  {
   "cell_type": "markdown",
   "metadata": {},
   "source": [
    "load training and test from numpy/pickle "
   ]
  },
  {
   "cell_type": "code",
   "execution_count": null,
   "metadata": {
    "collapsed": true
   },
   "outputs": [],
   "source": [
    "model_dir=\"dr_marron_ml_section_header/\"\n",
    "x_train_char = pickle.load(open(\"cnn_only_text_section_header/x_train_char\",'rb'))\n",
    "#x_train_layout = pickle.load(open(\"cnn_only_text_section_header/x_train_layout\",'rb'))\n",
    "y_train= pickle.load(open(\"cnn_only_text_section_header/y_train\",'rb'))\n",
    "\n",
    "x_test_char = pickle.load(open(\"cnn_only_text_section_header/x_test_char\",'rb'))\n",
    "#x_test_layout = pickle.load(open(\"cnn_only_text_section_header/x_test_layout\",'rb'))\n",
    "y_test= pickle.load(open(\"cnn_only_text_section_header/y_test\",'rb'))\n"
   ]
  },
  {
   "cell_type": "code",
   "execution_count": null,
   "metadata": {},
   "outputs": [],
   "source": [
    "print y_train[0]\n",
    "targ = y_train.argmax(1)\n",
    "print targ[0]\n",
    "print y_train.shape"
   ]
  },
  {
   "cell_type": "code",
   "execution_count": null,
   "metadata": {},
   "outputs": [],
   "source": [
    "# # save in csv file\n",
    "# df_data = pd.DataFrame(x_test_char[:20000])\n",
    "# df_data.to_csv(model_dir+\"train_data.csv\")\n",
    "\n",
    "# df_class = pd.DataFrame(targ[:20000])\n",
    "# df_class.to_csv(model_dir+\"train_target.csv\")\n",
    "\n"
   ]
  },
  {
   "cell_type": "code",
   "execution_count": null,
   "metadata": {},
   "outputs": [],
   "source": [
    "np.savetxt(model_dir+'test_data.csv', x_train_char[20000:22000].astype(np.int), fmt='%d', delimiter=',')\n",
    "np.savetxt(model_dir+'test_target.csv', targ[20000:22000].astype(np.int), fmt='%d', delimiter=',')"
   ]
  },
  {
   "cell_type": "code",
   "execution_count": null,
   "metadata": {},
   "outputs": [],
   "source": [
    "col=[\"f\"+str(i) for i in range(100)]"
   ]
  },
  {
   "cell_type": "code",
   "execution_count": null,
   "metadata": {},
   "outputs": [],
   "source": [
    "outfile=open(model_dir+\"col.txt\",\"w\")\n",
    "outfile.write(\",\".join(col))\n",
    "outfile.close()"
   ]
  },
  {
   "cell_type": "code",
   "execution_count": null,
   "metadata": {
    "collapsed": true
   },
   "outputs": [],
   "source": []
  }
 ],
 "metadata": {
  "kernelspec": {
   "display_name": "Python 2",
   "language": "python",
   "name": "python2"
  },
  "language_info": {
   "codemirror_mode": {
    "name": "ipython",
    "version": 2
   },
   "file_extension": ".py",
   "mimetype": "text/x-python",
   "name": "python",
   "nbconvert_exporter": "python",
   "pygments_lexer": "ipython2",
   "version": "2.7.13"
  }
 },
 "nbformat": 4,
 "nbformat_minor": 2
}
