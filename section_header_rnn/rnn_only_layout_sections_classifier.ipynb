{
 "cells": [
  {
   "cell_type": "markdown",
   "metadata": {},
   "source": [
    "RNN for sections classifier using only layout for three classes"
   ]
  },
  {
   "cell_type": "code",
   "execution_count": null,
   "metadata": {},
   "outputs": [],
   "source": [
    "import tensorflow as tf\n",
    "from tensorflow.contrib import keras\n",
    "from tensorflow.contrib.keras import models\n",
    "from tensorflow.contrib.keras import datasets\n",
    "from tensorflow.contrib.keras import layers\n",
    "from tensorflow.contrib.keras import preprocessing\n",
    "from tensorflow.contrib.keras import backend as K\n",
    "from tensorflow.contrib.keras import callbacks\n",
    "from tensorflow.contrib.keras import utils\n",
    "from datetime import datetime\n",
    "\n",
    "from collections import defaultdict\n",
    "import pandas as pd\n",
    "import numpy as np\n",
    "import os\n",
    "import json\n",
    "import pickle\n",
    "import sys\n",
    "import random\n",
    "import glob\n",
    "from sklearn import metrics,cross_validation\n",
    "import csv\n",
    "from collections import Counter\n",
    "import warnings\n",
    "import string\n",
    "import re\n",
    "import nltk\n",
    "warnings.filterwarnings('ignore')\n",
    "warnings.simplefilter('ignore')\n",
    "\n",
    "learn = tf.contrib.learn\n",
    "csv.field_size_limit(sys.maxsize)\n",
    "tf.logging.set_verbosity(tf.logging.WARN)"
   ]
  },
  {
   "cell_type": "code",
   "execution_count": null,
   "metadata": {
    "collapsed": true
   },
   "outputs": [],
   "source": [
    "config = tf.ConfigProto()\n",
    "config.gpu_options.per_process_gpu_memory_fraction = 0.80\n",
    "#config.gpu_options.allow_growth=True\n",
    "config.gpu_options.visible_device_list=\"0\"\n",
    "session = tf.Session(config=config)\n",
    "keras.backend.set_session(session)\n",
    "K.gpu_setup = [\"gpu0\"]"
   ]
  },
  {
   "cell_type": "code",
   "execution_count": null,
   "metadata": {
    "collapsed": true
   },
   "outputs": [],
   "source": [
    "MAX_DOCUMENT_LENGTH=100\n",
    "maxlen_word=20\n",
    "num_classes=3\n",
    "embedding_dims=100\n",
    "filters=250\n",
    "kernel_size = 3\n",
    "hidden_dims = 100\n",
    "batch_size=128"
   ]
  },
  {
   "cell_type": "code",
   "execution_count": null,
   "metadata": {
    "collapsed": true
   },
   "outputs": [],
   "source": [
    "model_dir=\"rnn_only_layout_sections_classifier_3_classes/\"\n",
    "\n",
    "if not os.path.exists(model_dir):\n",
    "    os.makedirs(model_dir)\n",
    "\n",
    "model_dir_three =\"../section_header_cnn_keras/cnn_only_text_sections_classifiers_3_classes/\"\n",
    "\n",
    "\n",
    "sys.stdout = open(model_dir+'report_sections_classifier_three_classes_cnn_only_layout_'+ \n",
    "                  str(datetime.now()).replace(\" \",\"-\").replace(\":\",\"-\")+'.txt', 'w')\n",
    "\n",
    "n_files=60\n",
    "n_epoch=100\n",
    "print(\"Number of files: \")\n",
    "print(str(n_files))\n",
    "print(\"\\nNumber of epoch: \")\n",
    "print(str(n_epoch))\n",
    "print(\"\\n\")\n"
   ]
  },
  {
   "cell_type": "code",
   "execution_count": null,
   "metadata": {
    "collapsed": true
   },
   "outputs": [],
   "source": [
    "# load data for three classes\n",
    "char_processor = pickle.load(open(model_dir_three+\"char_processor\",\n",
    "                                 'rb'))\n",
    "x_train_char = pickle.load(open(model_dir_three+\"x_train_char\",\n",
    "                                 'rb'))\n",
    "x_test_char = pickle.load(open(model_dir_three+\"x_test_char\",\n",
    "                                 'rb'))\n",
    "\n",
    "x_train_layout = pickle.load(open(model_dir_three+\"x_train_layout\",\n",
    "                                 'rb'))\n",
    "x_test_layout = pickle.load(open(model_dir_three+\"x_test_layout\",\n",
    "                                 'rb'))\n",
    "\n",
    "y_train = pickle.load(open(model_dir_three+\"y_train\",\n",
    "                                 'rb'))\n",
    "y_test = pickle.load(open(model_dir_three+\"y_test\",\n",
    "                                 'rb'))\n"
   ]
  },
  {
   "cell_type": "code",
   "execution_count": null,
   "metadata": {
    "collapsed": true
   },
   "outputs": [],
   "source": [
    "print('Build model for layout...')\n",
    "max_layout=x_train_layout.shape[1]\n",
    "\n",
    "input_layout =  layers.Input(shape=(max_layout,), name = 'input_layout')\n",
    "\n",
    "embedding_layout = layers.Embedding(output_dim=embedding_dims, input_dim=max_layout, \n",
    "                                     input_length=max_layout)(input_layout)\n",
    "\n",
    "gru_layout=layers.GRU(128,activation='tanh', recurrent_activation='hard_sigmoid', use_bias=True)(embedding_layout)\n",
    "\n",
    "dense_hidden_layout = layers.Dense(hidden_dims)(gru_layout)\n",
    "\n",
    "dropout_layout= layers.Dropout(0.2)(dense_hidden_layout)\n",
    "activation_layout = layers.Activation(\"tanh\")(dropout_layout)\n",
    "\n"
   ]
  },
  {
   "cell_type": "code",
   "execution_count": null,
   "metadata": {
    "collapsed": true
   },
   "outputs": [],
   "source": [
    "main_output = layers.Dense(num_classes, activation='softmax', name='main_output')(activation_layout)\n",
    "model = models.Model(inputs=[input_layout], outputs=[main_output])\n"
   ]
  },
  {
   "cell_type": "code",
   "execution_count": null,
   "metadata": {
    "collapsed": true
   },
   "outputs": [],
   "source": [
    "model.compile(loss='categorical_crossentropy',\n",
    "              optimizer='adam',\n",
    "              metrics=['accuracy'])\n",
    "\n",
    "print model.summary()"
   ]
  },
  {
   "cell_type": "code",
   "execution_count": null,
   "metadata": {
    "collapsed": true
   },
   "outputs": [],
   "source": [
    "tb_callback = callbacks.TensorBoard(log_dir=model_dir, histogram_freq=50, write_graph=True,\n",
    "                          embeddings_freq=50,embeddings_layer_names=None)"
   ]
  },
  {
   "cell_type": "code",
   "execution_count": null,
   "metadata": {
    "collapsed": true
   },
   "outputs": [],
   "source": [
    "filepath=model_dir+\"weights-improvement-{epoch:02d}-{val_acc:.9f}.hdf5\"\n",
    "checkpoint = callbacks.ModelCheckpoint(filepath, monitor='val_acc', verbose=1, save_best_only=True, mode='max')\n",
    "history = callbacks.History()"
   ]
  },
  {
   "cell_type": "code",
   "execution_count": null,
   "metadata": {},
   "outputs": [],
   "source": [
    "model.fit(x_train_layout, y_train,\n",
    "          batch_size=batch_size,shuffle=True,\n",
    "          epochs=n_epoch,verbose=2,\n",
    "          validation_data=(x_test_layout, y_test),callbacks=[checkpoint,history])\n"
   ]
  },
  {
   "cell_type": "code",
   "execution_count": null,
   "metadata": {
    "collapsed": true
   },
   "outputs": [],
   "source": [
    "model.save(model_dir+\"final_model\")"
   ]
  },
  {
   "cell_type": "code",
   "execution_count": null,
   "metadata": {
    "collapsed": true
   },
   "outputs": [],
   "source": [
    "score = np.asarray(model.predict(x_test_layout)).argmax(1)\n",
    "predict = np.round(np.asarray(model.predict(x_test_layout))).argmax(1)\n",
    "targ = y_test.argmax(1)\n"
   ]
  },
  {
   "cell_type": "code",
   "execution_count": null,
   "metadata": {
    "collapsed": true
   },
   "outputs": [],
   "source": [
    "print(metrics.classification_report(targ, predict))\n",
    "print metrics.confusion_matrix(targ, predict)\n"
   ]
  },
  {
   "cell_type": "code",
   "execution_count": null,
   "metadata": {
    "collapsed": true
   },
   "outputs": [],
   "source": [
    "print \"Done\"\n"
   ]
  },
  {
   "cell_type": "code",
   "execution_count": null,
   "metadata": {
    "collapsed": true
   },
   "outputs": [],
   "source": []
  }
 ],
 "metadata": {
  "kernelspec": {
   "display_name": "Python 2",
   "language": "python",
   "name": "python2"
  },
  "language_info": {
   "codemirror_mode": {
    "name": "ipython",
    "version": 2
   },
   "file_extension": ".py",
   "mimetype": "text/x-python",
   "name": "python",
   "nbconvert_exporter": "python",
   "pygments_lexer": "ipython2",
   "version": "2.7.13"
  }
 },
 "nbformat": 4,
 "nbformat_minor": 2
}
