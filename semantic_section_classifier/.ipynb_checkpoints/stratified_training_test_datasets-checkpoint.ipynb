{
 "cells": [
  {
   "cell_type": "markdown",
   "metadata": {},
   "source": [
    "Stratified the training and test datasets for semantic section classifiers"
   ]
  },
  {
   "cell_type": "code",
   "execution_count": null,
   "metadata": {
    "collapsed": true
   },
   "outputs": [],
   "source": [
    "from sklearn.model_selection import StratifiedShuffleSplit\n",
    "import numpy as np\n",
    "import pandas as pd\n",
    "from collections import defaultdict\n",
    "import math"
   ]
  },
  {
   "cell_type": "code",
   "execution_count": null,
   "metadata": {
    "collapsed": true
   },
   "outputs": [],
   "source": [
    "title_cat_aspects= 'data/whole_semantic_section_classifier'"
   ]
  },
  {
   "cell_type": "code",
   "execution_count": null,
   "metadata": {},
   "outputs": [],
   "source": [
    "item_dataset = defaultdict(lambda : None)\n",
    "item_dataset['target'] =[]   # target is the category id \n",
    "item_dataset['title'] =[]\n",
    "chunksize = 10 ** 5\n",
    "#data_df= pd.DataFrame(columns=['title','category'])"
   ]
  },
  {
   "cell_type": "code",
   "execution_count": null,
   "metadata": {},
   "outputs": [],
   "source": [
    "def process_chunks_to_get_input_data(data_from_file,item_dataset):\n",
    "    for index, row in data_from_file.iterrows():\n",
    "        \n",
    "        if row[\"title\"] is np.nan:\n",
    "            continue\n",
    "#        try:\n",
    "#        data_df.loc[data_df.shape[0]]=[row[\"title\"].lower(),row[\"category\"]]\n",
    "        item_dataset['title'].append(row[\"title\"].lower())\n",
    "        item_dataset['target'].append(row[\"category\"])\n",
    "#        except:\n",
    "#            \"\"\"\"\"\"\n"
   ]
  },
  {
   "cell_type": "code",
   "execution_count": null,
   "metadata": {},
   "outputs": [],
   "source": [
    "count_chunk=0\n",
    "for chunk in pd.read_csv(title_cat_aspects, sep=\"\\t\", chunksize=chunksize):\n",
    "    print \"Processing chunk: \",count_chunk+1\n",
    "    process_chunks_to_get_input_data(chunk,item_dataset)\n",
    "    #if count_chunk >=2:\n",
    "    #    break\n",
    "    count_chunk+=1"
   ]
  },
  {
   "cell_type": "code",
   "execution_count": null,
   "metadata": {
    "collapsed": true
   },
   "outputs": [],
   "source": [
    "data_df= pd.DataFrame({'title' : item_dataset['title'], 'category' : item_dataset['target']})  \n"
   ]
  },
  {
   "cell_type": "code",
   "execution_count": null,
   "metadata": {},
   "outputs": [],
   "source": [
    "yy = data_df.pop('category')\n",
    "XX = data_df.pop(\"title\")\n"
   ]
  },
  {
   "cell_type": "code",
   "execution_count": null,
   "metadata": {},
   "outputs": [],
   "source": []
  },
  {
   "cell_type": "code",
   "execution_count": null,
   "metadata": {},
   "outputs": [],
   "source": [
    "sss = StratifiedShuffleSplit(n_splits=10, test_size=0.20, random_state=0)\n",
    "sss.get_n_splits(XX, yy)\n"
   ]
  },
  {
   "cell_type": "code",
   "execution_count": null,
   "metadata": {},
   "outputs": [],
   "source": [
    "for train_index, test_index in sss.split(XX, yy):\n",
    "    XX_train, XX_test = XX[train_index], XX[test_index]\n",
    "    yy_train, yy_test = yy[train_index], yy[test_index]\n"
   ]
  },
  {
   "cell_type": "code",
   "execution_count": null,
   "metadata": {
    "collapsed": true
   },
   "outputs": [],
   "source": [
    "df_train = pd.DataFrame({\"category\":yy_train,\"title\":XX_train})\n",
    "df_test = pd.DataFrame({\"category\":yy_test,\"title\":XX_test})\n",
    "df_train.to_csv(\"data/Stratified_training_semantic_section_classifier\", sep='\\t',index=False)\n",
    "df_test.to_csv(\"data/Stratified_test_semantic_section_classifier\", sep='\\t',index=False)"
   ]
  },
  {
   "cell_type": "code",
   "execution_count": null,
   "metadata": {},
   "outputs": [],
   "source": [
    "whole_df = df_train.append(df_test, ignore_index=True)\n",
    "whole_df.to_csv(\"data/Stratified_whole_semantic_section_classifier\", sep='\\t',index=False)"
   ]
  },
  {
   "cell_type": "code",
   "execution_count": null,
   "metadata": {},
   "outputs": [],
   "source": []
  },
  {
   "cell_type": "code",
   "execution_count": null,
   "metadata": {},
   "outputs": [],
   "source": []
  },
  {
   "cell_type": "code",
   "execution_count": null,
   "metadata": {
    "collapsed": true
   },
   "outputs": [],
   "source": []
  }
 ],
 "metadata": {
  "kernelspec": {
   "display_name": "Python 2",
   "language": "python",
   "name": "python2"
  },
  "language_info": {
   "codemirror_mode": {
    "name": "ipython",
    "version": 2
   },
   "file_extension": ".py",
   "mimetype": "text/x-python",
   "name": "python",
   "nbconvert_exporter": "python",
   "pygments_lexer": "ipython2",
   "version": "2.7.13"
  }
 },
 "nbformat": 4,
 "nbformat_minor": 2
}
