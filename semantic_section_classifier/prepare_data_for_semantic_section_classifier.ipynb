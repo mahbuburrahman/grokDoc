{
 "cells": [
  {
   "cell_type": "markdown",
   "metadata": {},
   "source": [
    "Preparing training and test data for semantic section classifier based on the section and header \n",
    "geneated for summary. "
   ]
  },
  {
   "cell_type": "code",
   "execution_count": null,
   "metadata": {
    "collapsed": true
   },
   "outputs": [],
   "source": [
    "import gensim\n",
    "from gensim.parsing.preprocessing import STOPWORDS\n",
    "from gensim import corpora\n",
    "from gensim.utils import  simple_preprocess\n",
    "import itertools\n",
    "import numpy as np\n",
    "import pandas as pd\n",
    "import glob\n",
    "import csv\n",
    "import pdb\n",
    "import json\n",
    "from stop_words import get_stop_words\n",
    "import string\n",
    "import sys\n",
    "import unicodedata\n",
    "from operator import itemgetter\n",
    "import difflib"
   ]
  },
  {
   "cell_type": "code",
   "execution_count": null,
   "metadata": {
    "collapsed": true
   },
   "outputs": [],
   "source": [
    "#read class list\n",
    "#class_list = [x.strip() for x in open(\"data/class_list.txt\",\"r\").readlines()]\n",
    "class_list={}\n",
    "for x in open(\"data/class_list.txt\",\"r\").readlines():\n",
    "    x=x.strip()\n",
    "    class_list[x.split(\":\")[0]]=x.split(\":\")[1]\n"
   ]
  },
  {
   "cell_type": "code",
   "execution_count": null,
   "metadata": {
    "collapsed": true
   },
   "outputs": [],
   "source": []
  },
  {
   "cell_type": "code",
   "execution_count": null,
   "metadata": {
    "collapsed": true
   },
   "outputs": [],
   "source": [
    "def get_class_label(lbl):\n",
    "    \"\"\" Map the class lable with class from ontology\"\"\"\n",
    "    if lbl.lower() == \"pre_top\":\n",
    "        return \"abstract\"\n",
    "    for cl in class_list:\n",
    "        if cl.lower() in lbl.lower() or difflib.SequenceMatcher(None, cl.lower(),lbl.lower()).ratio()>0.80:\n",
    "            return class_list[cl].lower()\n",
    "    return \"none\""
   ]
  },
  {
   "cell_type": "code",
   "execution_count": null,
   "metadata": {
    "collapsed": true
   },
   "outputs": [],
   "source": [
    "#Load doc with sections and headers\n",
    "#docs_train= json.load(open(\"../data_set_for_summary/training_data_for_sum_with_header.txt\",\"r\"))\n",
    "docs_test= json.load(open(\"../data_set_for_summary/testdata_for_sum_with_header.txt\",\"r\"))\n"
   ]
  },
  {
   "cell_type": "code",
   "execution_count": null,
   "metadata": {
    "collapsed": true
   },
   "outputs": [],
   "source": [
    "print len(docs_train)"
   ]
  },
  {
   "cell_type": "code",
   "execution_count": null,
   "metadata": {
    "scrolled": false
   },
   "outputs": [],
   "source": [
    "test_df = pd.DataFrame(columns=['title','category'])\n",
    "#labels=[]\n",
    "index=0\n",
    "for doc in docs_test:\n",
    "    for key in doc:\n",
    "        for para in doc[key]:\n",
    "            #print para\n",
    "            test_df.loc[test_df.shape[0]]=[para[\"text\"],get_class_label(para[\"title\"])]\n",
    "            #labels.append(para[\"title\"])\n",
    "#     index+=1\n",
    "#     if index > 5: \n",
    "#         break        \n",
    "\n",
    "test_df.to_csv(\"data/test_semantic_section_classifier\", sep='\\t', encoding='utf-8',index=False)"
   ]
  },
  {
   "cell_type": "code",
   "execution_count": null,
   "metadata": {
    "collapsed": true
   },
   "outputs": [],
   "source": [
    "#print test_df.shape\n",
    "#print (test_df.to_string())\n",
    "# del test_df\n",
    "# del docs_test\n"
   ]
  },
  {
   "cell_type": "code",
   "execution_count": null,
   "metadata": {
    "collapsed": true
   },
   "outputs": [],
   "source": [
    "train_df = pd.DataFrame(columns=['title','category'])\n",
    "#labels=[]\n",
    "index=-1\n",
    "for doc in docs_train:\n",
    "    index+=1\n",
    "    if index<=80000:\n",
    "        continue\n",
    "    if index>160000:\n",
    "        print index\n",
    "        break\n",
    "    if index%10000 == 0:\n",
    "        print \"Processed upto \",index\n",
    "    for key in doc:\n",
    "        for para in doc[key]:\n",
    "            #print para\n",
    "            train_df.loc[train_df.shape[0]]=[para[\"text\"],get_class_label(para[\"title\"])]\n",
    "            #labels.append(para[\"title\"])\n",
    "#     if index > 5: \n",
    "#         break        \n",
    "\n",
    "train_df.to_csv(\"data/train_semantic_section_classifier_upto_80_160k\", sep='\\t', encoding='utf-8',index=False)"
   ]
  },
  {
   "cell_type": "markdown",
   "metadata": {},
   "source": [
    "Load test and training file chunks from file and merged"
   ]
  },
  {
   "cell_type": "code",
   "execution_count": null,
   "metadata": {
    "collapsed": true
   },
   "outputs": [],
   "source": [
    "# train80_df=pd.read_csv(\"data/train_semantic_section_classifier_upto_80k\",sep=\"\\t\")\n",
    "# train80_160_df=pd.read_csv(\"data/train_semantic_section_classifier_upto_80_160k\",sep=\"\\t\")\n",
    "test_df=pd.read_csv(\"data/test_semantic_section_classifier\",sep=\"\\t\")"
   ]
  },
  {
   "cell_type": "code",
   "execution_count": null,
   "metadata": {
    "collapsed": true
   },
   "outputs": [],
   "source": []
  },
  {
   "cell_type": "code",
   "execution_count": null,
   "metadata": {
    "collapsed": true
   },
   "outputs": [],
   "source": [
    "whole_df = train_df.append(test_df, ignore_index=True)"
   ]
  },
  {
   "cell_type": "code",
   "execution_count": null,
   "metadata": {
    "collapsed": true
   },
   "outputs": [],
   "source": [
    "whole_df.to_csv(\"data/whole_semantic_section_classifier\", sep='\\t', encoding='utf-8')"
   ]
  },
  {
   "cell_type": "code",
   "execution_count": null,
   "metadata": {
    "collapsed": true
   },
   "outputs": [],
   "source": []
  },
  {
   "cell_type": "code",
   "execution_count": null,
   "metadata": {
    "collapsed": true
   },
   "outputs": [],
   "source": []
  }
 ],
 "metadata": {
  "kernelspec": {
   "display_name": "Python 2",
   "language": "python",
   "name": "python2"
  },
  "language_info": {
   "codemirror_mode": {
    "name": "ipython",
    "version": 2
   },
   "file_extension": ".py",
   "mimetype": "text/x-python",
   "name": "python",
   "nbconvert_exporter": "python",
   "pygments_lexer": "ipython2",
   "version": "2.7.13"
  }
 },
 "nbformat": 4,
 "nbformat_minor": 2
}
